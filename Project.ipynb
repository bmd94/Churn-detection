{
  "nbformat": 4,
  "nbformat_minor": 0,
  "metadata": {
    "colab": {
      "name": "Project.ipynb",
      "private_outputs": true,
      "provenance": [],
      "collapsed_sections": [],
      "toc_visible": true,
      "mount_file_id": "1SsdH0TrAMYgWUX9s4fGVXXhSFHxtEz_v",
      "authorship_tag": "ABX9TyOssXh/CsoN55j7yYNQ6wXC",
      "include_colab_link": true
    },
    "kernelspec": {
      "name": "python3",
      "display_name": "Python 3"
    },
    "accelerator": "GPU"
  },
  "cells": [
    {
      "cell_type": "markdown",
      "metadata": {
        "id": "view-in-github",
        "colab_type": "text"
      },
      "source": [
        "<a href=\"https://colab.research.google.com/github/bmd94/Churn-detection/blob/main/Project.ipynb\" target=\"_parent\"><img src=\"https://colab.research.google.com/assets/colab-badge.svg\" alt=\"Open In Colab\"/></a>"
      ]
    },
    {
      "cell_type": "markdown",
      "metadata": {
        "id": "ZubNjE3yZK6U"
      },
      "source": [
        "# **CHURN**"
      ]
    },
    {
      "cell_type": "code",
      "metadata": {
        "id": "YfTW6YCtYlce"
      },
      "source": [
        "import numpy as np\r\n",
        "import pylab as pl\r\n",
        "import pandas as pd\r\n",
        "import matplotlib.pyplot as plt \r\n",
        "%matplotlib inline\r\n",
        "#%matplotlib qt\r\n",
        "import seaborn as sns"
      ],
      "execution_count": null,
      "outputs": []
    },
    {
      "cell_type": "code",
      "metadata": {
        "id": "O0hcxaPgZWjS"
      },
      "source": [
        "df_train = pd.read_csv('/content/drive/MyDrive/Kaggle/cell2celltrain.csv')\r\n",
        "df_test = pd.read_csv('/content/drive/MyDrive/Kaggle/cell2cellholdout.csv')"
      ],
      "execution_count": null,
      "outputs": []
    },
    {
      "cell_type": "code",
      "metadata": {
        "id": "CCmDdq9KgOx-"
      },
      "source": [
        "'''import glob\r\n",
        "import os\r\n",
        "import pandas as pd   \r\n",
        "df = pd.concat(map(pd.read_csv, glob.glob(os.path.join('/content/drive/MyDrive/Kaggle/cell', \"*.csv\"))))\r\n",
        "df.head()'''"
      ],
      "execution_count": null,
      "outputs": []
    },
    {
      "cell_type": "code",
      "metadata": {
        "id": "SXuwfHNGdrnJ"
      },
      "source": [
        "df_train.head()"
      ],
      "execution_count": null,
      "outputs": []
    },
    {
      "cell_type": "code",
      "metadata": {
        "id": "6WvuYQrs5D8X"
      },
      "source": [
        "df_train.columns"
      ],
      "execution_count": null,
      "outputs": []
    },
    {
      "cell_type": "code",
      "metadata": {
        "id": "jGz6VwOmZYrV"
      },
      "source": [
        "print(df_train.shape,'  ',df_test.shape)"
      ],
      "execution_count": null,
      "outputs": []
    },
    {
      "cell_type": "code",
      "metadata": {
        "id": "QL0Sqcn5cOFj"
      },
      "source": [
        "df_train.dtypes"
      ],
      "execution_count": null,
      "outputs": []
    },
    {
      "cell_type": "code",
      "metadata": {
        "id": "d17oyk59cX5l"
      },
      "source": [
        "(df_train.dtypes == 'object').sum()"
      ],
      "execution_count": null,
      "outputs": []
    },
    {
      "cell_type": "code",
      "metadata": {
        "id": "-iJ4CMINcqwS"
      },
      "source": [
        "df_train.isna().any().sum()"
      ],
      "execution_count": null,
      "outputs": []
    },
    {
      "cell_type": "code",
      "metadata": {
        "id": "mj2k36mwc-2c"
      },
      "source": [
        "df_train.info()"
      ],
      "execution_count": null,
      "outputs": []
    },
    {
      "cell_type": "code",
      "metadata": {
        "id": "mqtHsiVTd7-Z"
      },
      "source": [
        "df_train.describe().T"
      ],
      "execution_count": null,
      "outputs": []
    },
    {
      "cell_type": "code",
      "metadata": {
        "id": "EdGgPISneJ7m"
      },
      "source": [
        "df_rt = df_train.fillna(0)"
      ],
      "execution_count": null,
      "outputs": []
    },
    {
      "cell_type": "code",
      "metadata": {
        "id": "DSjsnZMDgInn"
      },
      "source": [
        "df_rt.isna().any().sum()"
      ],
      "execution_count": null,
      "outputs": []
    },
    {
      "cell_type": "code",
      "metadata": {
        "id": "BTDsC3QKewZ0"
      },
      "source": [
        "df_test.isna().any().sum()"
      ],
      "execution_count": null,
      "outputs": []
    },
    {
      "cell_type": "code",
      "metadata": {
        "id": "-tzCXIE4vKRe"
      },
      "source": [
        "df_rt.nunique()"
      ],
      "execution_count": null,
      "outputs": []
    },
    {
      "cell_type": "code",
      "metadata": {
        "id": "crf63ruWjR5D"
      },
      "source": [
        "df_rt.dtypes=='object' "
      ],
      "execution_count": null,
      "outputs": []
    },
    {
      "cell_type": "code",
      "metadata": {
        "id": "ANVn8zX7kkMq"
      },
      "source": [
        "col = []\r\n",
        "for i in df_rt.columns:\r\n",
        "    if df_rt[i].dtype=='object':\r\n",
        "        col.append(i)\r\n",
        "col"
      ],
      "execution_count": null,
      "outputs": []
    },
    {
      "cell_type": "code",
      "metadata": {
        "id": "Ofrs-uBFj31k"
      },
      "source": [
        "cat= col[1:]\r\n",
        "len(cat)                 \r\n",
        "cat"
      ],
      "execution_count": null,
      "outputs": []
    },
    {
      "cell_type": "code",
      "metadata": {
        "id": "vLHcAdJ8gLiE"
      },
      "source": [
        "print('size of dataframe befor onehot encoder',df_rt.shape)\r\n",
        "for c in cat:\r\n",
        "    # use pd.concat to join the new columns with your original dataframe\r\n",
        "    df_rt = pd.concat([df_rt,pd.get_dummies(df_rt[c], prefix=c)],axis=1)\r\n",
        "\r\n",
        "    # now drop the original 'country' column (you don't need it anymore)\r\n",
        "    df_rt.drop([c],axis=1, inplace=True)\r\n",
        "print('size of dataframe after onehot encoder',df_rt.shape)"
      ],
      "execution_count": null,
      "outputs": []
    },
    {
      "cell_type": "code",
      "metadata": {
        "id": "Q6N52XBMg9JZ"
      },
      "source": [
        "df_rt.head()"
      ],
      "execution_count": null,
      "outputs": []
    },
    {
      "cell_type": "code",
      "metadata": {
        "id": "5c-8FTY5hIO7"
      },
      "source": [
        "(df_rt.dtypes=='object').sum() "
      ],
      "execution_count": null,
      "outputs": []
    },
    {
      "cell_type": "code",
      "metadata": {
        "id": "ZmgMKQwSvytU"
      },
      "source": [
        "from sklearn import preprocessing\r\n",
        "\r\n",
        "le = preprocessing.LabelEncoder()\r\n",
        "df_rt['Churn']= le.fit_transform(df_rt['Churn'])"
      ],
      "execution_count": null,
      "outputs": []
    },
    {
      "cell_type": "code",
      "metadata": {
        "id": "V4j9N9uRwa-F"
      },
      "source": [
        "df_rt.head()"
      ],
      "execution_count": null,
      "outputs": []
    },
    {
      "cell_type": "code",
      "metadata": {
        "id": "pgFKr1HWxN31"
      },
      "source": [
        "(df_rt.dtypes=='object').sum() "
      ],
      "execution_count": null,
      "outputs": []
    },
    {
      "cell_type": "code",
      "metadata": {
        "id": "nfLrtysdc4fD"
      },
      "source": [
        "X = df_rt.iloc[:,2:]\r\n",
        "y = df_rt['Churn']\r\n",
        "print(X.shape,y.shape)"
      ],
      "execution_count": null,
      "outputs": []
    },
    {
      "cell_type": "code",
      "metadata": {
        "id": "ZT7bT1cGikMR"
      },
      "source": [
        "(X.dtypes=='object').sum() "
      ],
      "execution_count": null,
      "outputs": []
    },
    {
      "cell_type": "code",
      "metadata": {
        "id": "abYf8gTwxyhX"
      },
      "source": [
        "from sklearn.model_selection import train_test_split\r\n",
        "X_train, X_test, y_train,y_test = train_test_split(X,y,test_size=0.2,random_state=1)\r\n",
        "y_test.shape,y_train.shape"
      ],
      "execution_count": null,
      "outputs": []
    },
    {
      "cell_type": "code",
      "metadata": {
        "id": "6u3GL8gWwdTK"
      },
      "source": [
        "from sklearn.preprocessing import StandardScaler\r\n",
        "sc = StandardScaler()\r\n",
        "X_train = sc.fit_transform(X_train)\r\n",
        "X_test = sc.fit_transform(X_test)"
      ],
      "execution_count": null,
      "outputs": []
    },
    {
      "cell_type": "code",
      "metadata": {
        "id": "4DUpFGdPmqSg"
      },
      "source": [
        "pip install xgboost"
      ],
      "execution_count": null,
      "outputs": []
    },
    {
      "cell_type": "code",
      "metadata": {
        "id": "_1BqfKXhmp_B"
      },
      "source": [
        "pip install catboost"
      ],
      "execution_count": null,
      "outputs": []
    },
    {
      "cell_type": "code",
      "metadata": {
        "id": "nJrnRE3Fc0FL"
      },
      "source": [
        "from sklearn.tree import DecisionTreeClassifier\r\n",
        "from sklearn.ensemble import RandomForestClassifier\r\n",
        "from sklearn.naive_bayes import GaussianNB\r\n",
        "from sklearn.neighbors import KNeighborsClassifier\r\n",
        "from sklearn.svm import SVC\r\n",
        "from sklearn.neural_network import MLPClassifier\r\n",
        "from sklearn.ensemble import AdaBoostClassifier\r\n",
        "from sklearn.ensemble import GradientBoostingClassifier\r\n",
        "from sklearn.ensemble import ExtraTreesClassifier\r\n",
        "from sklearn.linear_model import LogisticRegression\r\n",
        "from sklearn.metrics import accuracy_score,f1_score,recall_score,precision_score\r\n",
        "from xgboost import XGBClassifier\r\n",
        "from catboost import CatBoostClassifier"
      ],
      "execution_count": null,
      "outputs": []
    },
    {
      "cell_type": "code",
      "metadata": {
        "id": "XzKWwVKJcz64"
      },
      "source": [
        "\r\n",
        "classifiers = [['DecisionTree :',DecisionTreeClassifier()],\r\n",
        "               ['RandomForest :',RandomForestClassifier()], \r\n",
        "               ['Naive Bayes :', GaussianNB()],\r\n",
        "               ['KNeighbours :', KNeighborsClassifier()],\r\n",
        "               #['SVM :', SVC()],\r\n",
        "               ['Neural Network :', MLPClassifier()],\r\n",
        "               ['LogisticRegression :', LogisticRegression()],\r\n",
        "               ['ExtraTreesClassifier :', ExtraTreesClassifier()],\r\n",
        "               ['AdaBoostClassifier :', AdaBoostClassifier()],\r\n",
        "               ['GradientBoostingClassifier: ', GradientBoostingClassifier()],\r\n",
        "               ['XGB :', XGBClassifier()],\r\n",
        "               ['CatBoost :', CatBoostClassifier(logging_level='Silent')]]\r\n",
        "\r\n",
        "predictions_df = pd.DataFrame()\r\n",
        "predictions_df['actual_labels'] = y_test\r\n",
        "accu=dict()\r\n",
        "for name,classifier in classifiers:\r\n",
        "    classifier = classifier\r\n",
        "    classifier.fit(X_train, y_train)\r\n",
        "    predictions = classifier.predict(X_test)\r\n",
        "    predictions_df[name.strip(\" :\")] = predictions\r\n",
        "    accu[name.replace(' :','')]=[round(accuracy_score(y_test, predictions),4)]\r\n",
        "    print(name, accuracy_score(y_test, predictions))\r\n",
        "    \r\n"
      ],
      "execution_count": null,
      "outputs": []
    },
    {
      "cell_type": "code",
      "metadata": {
        "id": "oBxlNwNOm-vh"
      },
      "source": [
        " accu"
      ],
      "execution_count": null,
      "outputs": []
    },
    {
      "cell_type": "code",
      "metadata": {
        "id": "0dRrxztYGnL3"
      },
      "source": [
        "from collections import OrderedDict\r\n",
        "d_sorted_by_value = OrderedDict(sorted(accu.items(), key=lambda x: x[1],reverse=True))"
      ],
      "execution_count": null,
      "outputs": []
    },
    {
      "cell_type": "code",
      "metadata": {
        "id": "RKhTeiBiGw2K"
      },
      "source": [
        "d_sorted_by_value"
      ],
      "execution_count": null,
      "outputs": []
    },
    {
      "cell_type": "code",
      "metadata": {
        "id": "sDmAOkErnChT"
      },
      "source": [
        "mdl = pd.DataFrame.from_dict(d_sorted_by_value, orient='index', columns=['Accu'])\r\n",
        "mdl"
      ],
      "execution_count": null,
      "outputs": []
    },
    {
      "cell_type": "code",
      "metadata": {
        "id": "wjya6QiwnCer"
      },
      "source": [
        "plt.figure(figsize=(10, 8))\r\n",
        "sns.set_theme(style=\"whitegrid\")\r\n",
        "ax = sns.barplot(x=mdl.index, y=mdl['Accu'], data=mdl)\r\n",
        "plt.xticks(rotation=90)"
      ],
      "execution_count": null,
      "outputs": []
    },
    {
      "cell_type": "code",
      "metadata": {
        "id": "xMbBOdw3czFG"
      },
      "source": [
        "classifier = CatBoostClassifier(logging_level='Silent')\r\n",
        "classifier.fit(X_train,y_train)\r\n",
        "prediction = classifier.predict(X_test)\r\n",
        "print('='*63)\r\n",
        "print('Accuaracy of Model ',accuracy_score(y_test, prediction))\r\n",
        "print('F1 score of Model ',f1_score(y_test, prediction))  # f1_score recall_score\r\n",
        "print('Recall score of Model ',recall_score(y_test, prediction))  # f1_score precision_score\r\n",
        "print('Precision score of Model ',precision_score(y_test, prediction))  # f1_score precision_score\r\n",
        "print('='*63)"
      ],
      "execution_count": null,
      "outputs": []
    },
    {
      "cell_type": "code",
      "metadata": {
        "id": "QvxlOqdqnCmw"
      },
      "source": [
        "from sklearn.metrics import confusion_matrix,classification_report\r\n",
        "\r\n",
        "classifier_cm= confusion_matrix(y_test,prediction)\r\n",
        "f, ax = plt.subplots(figsize=(5,5))\r\n",
        "sns.heatmap(classifier_cm, annot=True, linewidth=0.7, linecolor='black', fmt='g', ax=ax,\r\n",
        "            cmap=\"BuPu\")\r\n",
        "plt.title('VotingClassification Confusion Matrix')\r\n",
        "plt.xlabel('Predictions')\r\n",
        "plt.ylabel('Y test')\r\n",
        "plt.show()"
      ],
      "execution_count": null,
      "outputs": []
    },
    {
      "cell_type": "code",
      "metadata": {
        "id": "X7gUILhfnCk5"
      },
      "source": [
        "classifier_cm = classification_report(y_test,predictions)\r\n",
        "print(classifier_cm)"
      ],
      "execution_count": null,
      "outputs": []
    }
  ]
}